{
 "cells": [
  {
   "cell_type": "markdown",
   "id": "4f6020d6",
   "metadata": {},
   "source": [
    "### Python 배우기 (1~50)"
   ]
  },
  {
   "cell_type": "code",
   "execution_count": 2,
   "id": "05eb38d7",
   "metadata": {},
   "outputs": [
    {
     "name": "stdout",
     "output_type": "stream",
     "text": [
      "3\n"
     ]
    }
   ],
   "source": [
    "# 2558\n",
    "A = int(input())\n",
    "B = int(input())\n",
    "print(A + B)"
   ]
  },
  {
   "cell_type": "code",
   "execution_count": 5,
   "id": "da9f8388",
   "metadata": {},
   "outputs": [
    {
     "name": "stdout",
     "output_type": "stream",
     "text": [
      "1\n"
     ]
    }
   ],
   "source": [
    "# 2163\n",
    "N, M = map(int, input().split())\n",
    "\n",
    "print(N * M -1)"
   ]
  },
  {
   "cell_type": "code",
   "execution_count": 6,
   "id": "58b3d790",
   "metadata": {},
   "outputs": [
    {
     "name": "stdout",
     "output_type": "stream",
     "text": [
      "MA\n",
      "18:40:03\n"
     ]
    }
   ],
   "source": [
    "def timeConversion(s):\n",
    "    # Write your code here\n",
    "    if(s[-1] + s[-2] == 'AM'):\n",
    "        if(s[0:2] == '12') :\n",
    "            return '00' + s[2:-2]\n",
    "        return s[0:-2]\n",
    "    \n",
    "    else :\n",
    "        if(s[0:2] == '12') :\n",
    "            return s[0:-2]\n",
    "        return str(int(s[0:2]) + 12) + s[2:-2]\n",
    "\n",
    "s = '06:40:03AM'\n",
    "print(timeConversion(s))"
   ]
  },
  {
   "cell_type": "code",
   "execution_count": null,
   "id": "a58dd43f",
   "metadata": {},
   "outputs": [],
   "source": []
  }
 ],
 "metadata": {
  "kernelspec": {
   "display_name": "Python 3.10.6 64-bit",
   "language": "python",
   "name": "python3"
  },
  "language_info": {
   "codemirror_mode": {
    "name": "ipython",
    "version": 3
   },
   "file_extension": ".py",
   "mimetype": "text/x-python",
   "name": "python",
   "nbconvert_exporter": "python",
   "pygments_lexer": "ipython3",
   "version": "3.10.6"
  },
  "vscode": {
   "interpreter": {
    "hash": "aee8b7b246df8f9039afb4144a1f6fd8d2ca17a180786b69acc140d282b71a49"
   }
  }
 },
 "nbformat": 4,
 "nbformat_minor": 5
}
