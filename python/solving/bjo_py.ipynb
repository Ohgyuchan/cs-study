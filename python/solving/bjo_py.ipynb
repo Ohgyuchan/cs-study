{
 "cells": [
  {
   "cell_type": "markdown",
   "id": "4f6020d6",
   "metadata": {},
   "source": [
    "### Python 배우기 (1~50)"
   ]
  },
  {
   "cell_type": "code",
   "execution_count": 2,
   "id": "05eb38d7",
   "metadata": {},
   "outputs": [
    {
     "name": "stdout",
     "output_type": "stream",
     "text": [
      "3\n"
     ]
    }
   ],
   "source": [
    "# 2558\n",
    "A = int(input())\n",
    "B = int(input())\n",
    "print(A + B)"
   ]
  },
  {
   "cell_type": "code",
   "execution_count": 5,
   "id": "da9f8388",
   "metadata": {},
   "outputs": [
    {
     "name": "stdout",
     "output_type": "stream",
     "text": [
      "1\n"
     ]
    }
   ],
   "source": [
    "# 2163\n",
    "N, M = map(int, input().split())\n",
    "\n",
    "print(N * M -1)"
   ]
  },
  {
   "cell_type": "code",
   "execution_count": 9,
   "id": "58b3d790",
   "metadata": {},
   "outputs": [
    {
     "name": "stdout",
     "output_type": "stream",
     "text": [
      "06:40:03\n"
     ]
    }
   ],
   "source": [
    "def timeConversion(s):\n",
    "    # Write your code here\n",
    "    if(s[-2] + s[-1] == 'AM'):\n",
    "        if(s[0:2] == '12') :\n",
    "            return '00' + s[2:-2]\n",
    "        return s[0:-2]\n",
    "    \n",
    "    else :\n",
    "        if(s[0:2] == '12') :\n",
    "            return s[0:-2]\n",
    "        return str(int(s[0:2]) + 12) + s[2:-2]\n",
    "\n",
    "s = '06:40:03AM'\n",
    "print(timeConversion(s))"
   ]
  },
  {
   "cell_type": "code",
   "execution_count": 12,
   "id": "a58dd43f",
   "metadata": {},
   "outputs": [
    {
     "name": "stdout",
     "output_type": "stream",
     "text": [
      "3\n"
     ]
    }
   ],
   "source": [
    "arr = [0, 1, 2, 4, 5, 6, 3]\n",
    "\n",
    "arr.sort()\n",
    "print(arr[int(len(arr) / 2)])"
   ]
  },
  {
   "cell_type": "code",
   "execution_count": 21,
   "id": "97c63bb2",
   "metadata": {},
   "outputs": [
    {
     "name": "stdout",
     "output_type": "stream",
     "text": [
      "11\n",
      "5\n",
      "-12\n",
      "15\n"
     ]
    }
   ],
   "source": [
    "arr = [[11,2,4],[4,5,6],[10,8,-12]]\n",
    "\n",
    "d1 = 0\n",
    "d2 = 0\n",
    "\n",
    "for i in range(len(arr)) :\n",
    "    d1 += arr[i][i]\n",
    "    d2 += arr[i][len(arr)-1-i]\n",
    "\n",
    "print(abs(d1-d2))\n"
   ]
  },
  {
   "cell_type": "code",
   "execution_count": 31,
   "id": "c94f07b5",
   "metadata": {},
   "outputs": [
    {
     "name": "stdout",
     "output_type": "stream",
     "text": [
      "[0, 2, 0, 2, 0, 0, 1, 0, 1, 2, 1, 0, 1, 1, 0, 0, 2, 0, 1, 0, 1, 2, 1, 1, 1, 3, 0, 2, 0, 0, 2, 0, 3, 3, 1, 0, 0, 0, 0, 2, 2, 1, 1, 1, 2, 0, 2, 0, 1, 0, 1, 0, 0, 1, 0, 0, 2, 1, 0, 1, 1, 1, 0, 1, 0, 1, 0, 2, 1, 3, 2, 0, 0, 2, 1, 2, 1, 0, 2, 2, 1, 2, 1, 2, 1, 1, 2, 2, 0, 3, 2, 1, 1, 0, 1, 1, 1, 0, 2, 2]\n"
     ]
    }
   ],
   "source": [
    "arr = [63, 25, 73, 1, 98, 73, 56, 84, 86, 57, 16, 83, 8, 25, 81, 56, 9, 53, 98, 67, 99, 12, 83, 89, 80, 91, 39, 86, 76, 85, 74, 39, 25, 90, 59, 10, 94, 32, 44, 3, 89, 30, 27, 79, 46, 96, 27, 32, 18, 21, 92, 69, 81, 40, 40, 34, 68, 78, 24, 87, 42, 69, 23, 41, 78, 22, 6, 90, 99, 89, 50, 30, 20, 1, 43, 3, 70, 95, 33, 46, 44, 9, 69, 48, 33, 60, 65, 16, 82, 67, 61, 32, 21, 79, 75, 75, 13, 87, 70, 33]\n",
    "\n",
    "countingList = [0] * 100\n",
    "\n",
    "for i in arr :\n",
    "    countingList[i] += 1\n",
    "\n",
    "print(countingList)"
   ]
  },
  {
   "cell_type": "code",
   "execution_count": null,
   "id": "1d02344f",
   "metadata": {},
   "outputs": [],
   "source": []
  }
 ],
 "metadata": {
  "kernelspec": {
   "display_name": "Python 3.10.6 64-bit",
   "language": "python",
   "name": "python3"
  },
  "language_info": {
   "codemirror_mode": {
    "name": "ipython",
    "version": 3
   },
   "file_extension": ".py",
   "mimetype": "text/x-python",
   "name": "python",
   "nbconvert_exporter": "python",
   "pygments_lexer": "ipython3",
   "version": "3.10.6"
  },
  "vscode": {
   "interpreter": {
    "hash": "aee8b7b246df8f9039afb4144a1f6fd8d2ca17a180786b69acc140d282b71a49"
   }
  }
 },
 "nbformat": 4,
 "nbformat_minor": 5
}
