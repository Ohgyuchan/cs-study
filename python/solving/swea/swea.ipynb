{
 "cells": [
  {
   "cell_type": "markdown",
   "metadata": {},
   "source": [
    "### D1"
   ]
  },
  {
   "cell_type": "code",
   "execution_count": 4,
   "metadata": {},
   "outputs": [
    {
     "name": "stdout",
     "output_type": "stream",
     "text": [
      "#1 200\n"
     ]
    }
   ],
   "source": [
    "# 2072 홀수만 더하기\n",
    "# 기본 제공코드는 임의 수정해도 관계 없습니다. 단, 입출력 포맷 주의\n",
    "# 아래 표준 입출력 예제 필요시 참고하세요.\n",
    "\n",
    "# 표준 입력 예제\n",
    "'''\n",
    "a = int(input())                        정수형 변수 1개 입력 받는 예제\n",
    "b, c = map(int, input().split())        정수형 변수 2개 입력 받는 예제 \n",
    "d = float(input())                      실수형 변수 1개 입력 받는 예제\n",
    "e, f, g = map(float, input().split())   실수형 변수 3개 입력 받는 예제\n",
    "h = input()                             문자열 변수 1개 입력 받는 예제\n",
    "'''\n",
    "\n",
    "# 표준 출력 예제\n",
    "'''\n",
    "a, b = 6, 3\n",
    "c, d, e = 1.0, 2.5, 3.4\n",
    "f = \"ABC\"\n",
    "print(a)                                정수형 변수 1개 출력하는 예제\n",
    "print(b, end = \" \")                     줄바꿈 하지 않고 정수형 변수와 공백을 출력하는 예제\n",
    "print(c, d, e)                          실수형 변수 3개 출력하는 예제\n",
    "print(f)                                문자열 1개 출력하는 예제\n",
    "'''\n",
    "\n",
    "\n",
    "\n",
    "\n",
    "'''\n",
    "      아래의 구문은 input.txt 를 read only 형식으로 연 후,\n",
    "      앞으로 표준 입력(키보드) 대신 input.txt 파일로부터 읽어오겠다는 의미의 코드입니다.\n",
    "      여러분이 작성한 코드를 테스트 할 때, 편의를 위해서 input.txt에 입력을 저장한 후,\n",
    "      아래 구문을 이용하면 이후 입력을 수행할 때 표준 입력 대신 파일로부터 입력을 받아올 수 있습니다.\n",
    "\n",
    "      따라서 테스트를 수행할 때에는 아래 주석을 지우고 이 구문을 사용하셔도 좋습니다.\n",
    "      아래 구문을 사용하기 위해서는 import sys가 필요합니다.\n",
    "\n",
    "      단, 채점을 위해 코드를 제출하실 때에는 반드시 아래 구문을 지우거나 주석 처리 하셔야 합니다.\n",
    "'''\n",
    "#import sys\n",
    "#sys.stdin = open(\"input.txt\", \"r\")\n",
    "\n",
    "T = int(input())\n",
    "# 여러개의 테스트 케이스가 주어지므로, 각각을 처리합니다.\n",
    "for test_case in range(1, T + 1):\n",
    "    a = list(map(int, input().split()))\n",
    "    result = 0\n",
    "    for i in range(len(a)) :\n",
    "        if(a[i] & 1) :\n",
    "            result += a[i]\n",
    "    print(\"#%d %d\" % (test_case, result))\n",
    "\n"
   ]
  },
  {
   "cell_type": "code",
   "execution_count": null,
   "metadata": {},
   "outputs": [],
   "source": []
  }
 ],
 "metadata": {
  "kernelspec": {
   "display_name": "Python 3.10.6 64-bit",
   "language": "python",
   "name": "python3"
  },
  "language_info": {
   "codemirror_mode": {
    "name": "ipython",
    "version": 3
   },
   "file_extension": ".py",
   "mimetype": "text/x-python",
   "name": "python",
   "nbconvert_exporter": "python",
   "pygments_lexer": "ipython3",
   "version": "3.10.6"
  },
  "orig_nbformat": 4,
  "vscode": {
   "interpreter": {
    "hash": "aee8b7b246df8f9039afb4144a1f6fd8d2ca17a180786b69acc140d282b71a49"
   }
  }
 },
 "nbformat": 4,
 "nbformat_minor": 2
}
